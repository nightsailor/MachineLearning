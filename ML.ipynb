{
 "cells": [
  {
   "cell_type": "code",
   "execution_count": 6,
   "id": "162d1e70",
   "metadata": {
    "scrolled": true
   },
   "outputs": [
    {
     "data": {
      "text/plain": [
       "array(['HipHop'], dtype=object)"
      ]
     },
     "execution_count": 6,
     "metadata": {},
     "output_type": "execute_result"
    }
   ],
   "source": [
    "# Persisting Models\n",
    "\n",
    "import pandas as pd\n",
    "from sklearn.tree import DecisionTreeClassifier\n",
    "# from sklearn.externals import joblib\n",
    "import joblib\n",
    "\n",
    "# music_data = pd.read_csv('music.csv')\n",
    "# X = music_data.drop(columns=['genre'])\n",
    "# y = music_data['genre']\n",
    "\n",
    "# model = DecisionTreeClassifier()\n",
    "# model.fit(X, y)\n",
    "\n",
    "# joblib.dump(model, 'music_recommender.joblib')\n",
    "\n",
    "model = joblib.load('music_recommender.joblib')\n",
    "predictions = model.predict([ [21,1] ])\n",
    "\n",
    "predictions"
   ]
  },
  {
   "cell_type": "code",
   "execution_count": 5,
   "id": "ba20313c",
   "metadata": {
    "scrolled": true
   },
   "outputs": [
    {
     "name": "stdout",
     "output_type": "stream",
     "text": [
      "hello world\n",
      "ocean\n"
     ]
    }
   ],
   "source": [
    "# Importing a Data Set\n",
    "\n",
    "import pandas as pd\n",
    "# pd.read_csv('')\n",
    "\n",
    "df = pd.read_csv('vgsales.csv')\n",
    "df\n",
    "\n",
    "df.shape\n",
    "\n",
    "print('hello world')\n",
    "print('ocean')\n",
    "\n",
    "df.describe()\n",
    "\n",
    "df.values\n",
    "\n",
    "a = 1"
   ]
  },
  {
   "cell_type": "code",
   "execution_count": 7,
   "id": "e32d1196",
   "metadata": {},
   "outputs": [
    {
     "data": {
      "text/plain": [
       "1.0"
      ]
     },
     "execution_count": 7,
     "metadata": {},
     "output_type": "execute_result"
    }
   ],
   "source": [
    "# Machine Learning\n",
    "\n",
    "## 1 import the data\n",
    "import pandas as pd\n",
    "from sklearn.tree import DecisionTreeClassifier\n",
    "from sklearn.model_selection import train_test_split\n",
    "from sklearn.metrics import accuracy_score\n",
    "\n",
    "music_data = pd.read_csv('music.csv')\n",
    "music_data\n",
    "\n",
    "## 2 Clean the data\n",
    "## 3 Split the data into Training/Test Sets\n",
    "X = music_data.drop(columns=['genre'])\n",
    "y = music_data['genre']\n",
    "\n",
    "X_train, X_test, y_train, y_test = train_test_split(X, y, test_size=0.2)\n",
    "\n",
    "## 4 Create the model\n",
    "# Algorithm - decision tree\n",
    "modelA = DecisionTreeClassifier()\n",
    "model = DecisionTreeClassifier()\n",
    "\n",
    "## 5 Train the model\n",
    "# Train it so it learns patterns in data\n",
    "modelA.fit(X, y)\n",
    "model.fit(X_train, y_train)\n",
    "\n",
    "#no value for 22 F\n",
    "music_data\n",
    "\n",
    "## 6 Make Predictions\n",
    "# What's the kind of music a 21 year's male likes\n",
    "predictionsA = model.predict([ [21,1], [22,0] ])\n",
    "predictions = model.predict(X_test)\n",
    "\n",
    "predictionsA\n",
    "predictions\n",
    "\n",
    "## 7 Evaluate and improve\n",
    "# Calculating the Accuracy\n",
    "score = accuracy_score(y_test, predictions)\n",
    "score\n"
   ]
  },
  {
   "cell_type": "code",
   "execution_count": 8,
   "id": "3169ed33",
   "metadata": {},
   "outputs": [],
   "source": [
    "# Visualizing a Decision Tree\n",
    "\n",
    "import pandas as pd\n",
    "from sklearn.tree import DecisionTreeClassifier\n",
    "from sklearn import tree\n",
    "\n",
    "music_data = pd.read_csv('music.csv')\n",
    "X = music_data.drop(columns=['genre'])\n",
    "y = music_data['genre']\n",
    "\n",
    "model = DecisionTreeClassifier()\n",
    "model.fit(X, y)\n",
    "\n",
    "tree.export_graphviz(model, out_file='music-recommender.dot',\n",
    "                      feature_names=['age', 'gender'],\n",
    "                      class_names=sorted(y.unique()),\n",
    "                      label='all',\n",
    "                      rounded=True,\n",
    "                      filled=True)"
   ]
  }
 ],
 "metadata": {
  "kernelspec": {
   "display_name": "Python 3 (ipykernel)",
   "language": "python",
   "name": "python3"
  },
  "language_info": {
   "codemirror_mode": {
    "name": "ipython",
    "version": 3
   },
   "file_extension": ".py",
   "mimetype": "text/x-python",
   "name": "python",
   "nbconvert_exporter": "python",
   "pygments_lexer": "ipython3",
   "version": "3.9.7"
  }
 },
 "nbformat": 4,
 "nbformat_minor": 5
}
